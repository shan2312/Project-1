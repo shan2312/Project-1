{
  "nbformat": 4,
  "nbformat_minor": 0,
  "metadata": {
    "colab": {
      "name": "1st DNN_SS.ipynb",
      "version": "0.3.2",
      "provenance": [],
      "collapsed_sections": [],
      "include_colab_link": true
    },
    "kernelspec": {
      "name": "python3",
      "display_name": "Python 3"
    },
    "accelerator": "GPU"
  },
  "cells": [
    {
      "cell_type": "markdown",
      "metadata": {
        "id": "view-in-github",
        "colab_type": "text"
      },
      "source": [
        "<a href=\"https://colab.research.google.com/github/shan2312/Project-1/blob/master/Session%203/1st_DNN_SS.ipynb\" target=\"_parent\"><img src=\"https://colab.research.google.com/assets/colab-badge.svg\" alt=\"Open In Colab\"/></a>"
      ]
    },
    {
      "cell_type": "markdown",
      "metadata": {
        "id": "aNyZv-Ec52ot",
        "colab_type": "text"
      },
      "source": [
        "# **Import Libraries and modules**"
      ]
    },
    {
      "cell_type": "code",
      "metadata": {
        "id": "3m3w1Cw49Zkt",
        "colab_type": "code",
        "outputId": "79d2234b-8a5a-471d-afe5-92df4e87ad89",
        "colab": {
          "base_uri": "https://localhost:8080/",
          "height": 35
        }
      },
      "source": [
        "# https://keras.io/\n",
        "!pip install -q keras\n",
        "import keras\n",
        "# Import Keras"
      ],
      "execution_count": 0,
      "outputs": [
        {
          "output_type": "stream",
          "text": [
            "Using TensorFlow backend.\n"
          ],
          "name": "stderr"
        }
      ]
    },
    {
      "cell_type": "code",
      "metadata": {
        "id": "Eso6UHE080D4",
        "colab_type": "code",
        "colab": {}
      },
      "source": [
        "import numpy as np\n",
        "\n",
        "from keras.models import Sequential\n",
        "from keras.layers import Dense, Dropout, Activation, Flatten, Add\n",
        "from keras.layers import Convolution2D, MaxPooling2D, BatchNormalization\n",
        "from keras.utils import np_utils\n",
        "\n",
        "from keras.datasets import mnist\n",
        "# Import necessary packages from keras. "
      ],
      "execution_count": 0,
      "outputs": []
    },
    {
      "cell_type": "markdown",
      "metadata": {
        "id": "zByEi95J86RD",
        "colab_type": "text"
      },
      "source": [
        "### Load pre-shuffled MNIST data into train and test sets"
      ]
    },
    {
      "cell_type": "code",
      "metadata": {
        "id": "7eRM0QWN83PV",
        "colab_type": "code",
        "outputId": "90c91387-6431-4e85-c299-662b8822fae6",
        "colab": {
          "base_uri": "https://localhost:8080/",
          "height": 52
        }
      },
      "source": [
        "(X_train, y_train), (X_test, y_test) = mnist.load_data()\n",
        "# Load MNIST data"
      ],
      "execution_count": 0,
      "outputs": [
        {
          "output_type": "stream",
          "text": [
            "Downloading data from https://s3.amazonaws.com/img-datasets/mnist.npz\n",
            "11493376/11490434 [==============================] - 0s 0us/step\n"
          ],
          "name": "stdout"
        }
      ]
    },
    {
      "cell_type": "code",
      "metadata": {
        "id": "4a4Be72j8-ZC",
        "colab_type": "code",
        "outputId": "b024cdc7-7831-4e3c-d383-d92b8646e538",
        "colab": {
          "base_uri": "https://localhost:8080/",
          "height": 304
        }
      },
      "source": [
        "print (X_train.shape)\n",
        "from matplotlib import pyplot as plt\n",
        "%matplotlib inline\n",
        "plt.imshow(X_train[6])\n",
        "# Plot one of the digits in the train data "
      ],
      "execution_count": 0,
      "outputs": [
        {
          "output_type": "stream",
          "text": [
            "(60000, 28, 28)\n"
          ],
          "name": "stdout"
        },
        {
          "output_type": "execute_result",
          "data": {
            "text/plain": [
              "<matplotlib.image.AxesImage at 0x7f8399af8e48>"
            ]
          },
          "metadata": {
            "tags": []
          },
          "execution_count": 5
        },
        {
          "output_type": "display_data",
          "data": {
            "image/png": "[encoded data removed]",
            "text/plain": [
              "<Figure size 432x288 with 1 Axes>"
            ]
          },
          "metadata": {
            "tags": []
          }
        }
      ]
    },
    {
      "cell_type": "code",
      "metadata": {
        "id": "dkmprriw9AnZ",
        "colab_type": "code",
        "colab": {}
      },
      "source": [
        "X_train = X_train.reshape(X_train.shape[0], 28, 28,1)\n",
        "X_test = X_test.reshape(X_test.shape[0], 28, 28,1)\n",
        "# Reshape the data in order to include number of channels as well. Which is 1 in this case."
      ],
      "execution_count": 0,
      "outputs": []
    },
    {
      "cell_type": "code",
      "metadata": {
        "id": "X2m4YS4E9CRh",
        "colab_type": "code",
        "colab": {}
      },
      "source": [
        "X_train = X_train.astype('float32')\n",
        "X_test = X_test.astype('float32')\n",
        "X_train /= 255\n",
        "X_test /= 255\n",
        "# Convert data points to float and normalize so that values do not become too big."
      ],
      "execution_count": 0,
      "outputs": []
    },
    {
      "cell_type": "code",
      "metadata": {
        "id": "0Mn0vAYD9DvB",
        "colab_type": "code",
        "outputId": "63370d80-cd46-4597-ecd4-584e64c542cf",
        "colab": {
          "base_uri": "https://localhost:8080/",
          "height": 35
        }
      },
      "source": [
        "y_train[:10]\n",
        "# Print first 10 values of Y"
      ],
      "execution_count": 0,
      "outputs": [
        {
          "output_type": "execute_result",
          "data": {
            "text/plain": [
              "array([5, 0, 4, 1, 9, 2, 1, 3, 1, 4], dtype=uint8)"
            ]
          },
          "metadata": {
            "tags": []
          },
          "execution_count": 8
        }
      ]
    },
    {
      "cell_type": "code",
      "metadata": {
        "id": "ZG8JiXR39FHC",
        "colab_type": "code",
        "colab": {}
      },
      "source": [
        "# Convert 1-dimensional class arrays to 10-dimensional class matrices\n",
        "Y_train = np_utils.to_categorical(y_train, 10)\n",
        "Y_test = np_utils.to_categorical(y_test, 10)"
      ],
      "execution_count": 0,
      "outputs": []
    },
    {
      "cell_type": "code",
      "metadata": {
        "id": "fYlFRvKS9HMB",
        "colab_type": "code",
        "outputId": "59c43440-9c02-41d6-f4d5-5d143b2d4132",
        "colab": {
          "base_uri": "https://localhost:8080/",
          "height": 191
        }
      },
      "source": [
        "Y_train[:10]\n",
        "# Print Y after converting to a category"
      ],
      "execution_count": 0,
      "outputs": [
        {
          "output_type": "execute_result",
          "data": {
            "text/plain": [
              "array([[0., 0., 0., 0., 0., 1., 0., 0., 0., 0.],\n",
              "       [1., 0., 0., 0., 0., 0., 0., 0., 0., 0.],\n",
              "       [0., 0., 0., 0., 1., 0., 0., 0., 0., 0.],\n",
              "       [0., 1., 0., 0., 0., 0., 0., 0., 0., 0.],\n",
              "       [0., 0., 0., 0., 0., 0., 0., 0., 0., 1.],\n",
              "       [0., 0., 1., 0., 0., 0., 0., 0., 0., 0.],\n",
              "       [0., 1., 0., 0., 0., 0., 0., 0., 0., 0.],\n",
              "       [0., 0., 0., 1., 0., 0., 0., 0., 0., 0.],\n",
              "       [0., 1., 0., 0., 0., 0., 0., 0., 0., 0.],\n",
              "       [0., 0., 0., 0., 1., 0., 0., 0., 0., 0.]], dtype=float32)"
            ]
          },
          "metadata": {
            "tags": []
          },
          "execution_count": 10
        }
      ]
    },
    {
      "cell_type": "code",
      "metadata": {
        "id": "osKqT73Q9JJB",
        "colab_type": "code",
        "outputId": "b49148d9-40a4-4403-ec7e-57a1b99cf643",
        "colab": {
          "base_uri": "https://localhost:8080/",
          "height": 245
        }
      },
      "source": [
        "from keras.layers import Activation\n",
        "model = Sequential()\n",
        "# Create a model object\n",
        "\n",
        "# Add layer 1, output shape - (26,26). RF - 3\n",
        "model.add(Convolution2D(16, 3, 3, activation='relu', input_shape=(28,28,1)))\n",
        "# Add drop out of 0.3. This will randomly deactivate 30% of neurons\n",
        "model.add(Dropout(0.3))\n",
        "# Add layer 2, output shape - (24,24). RF - 5\n",
        "model.add(Convolution2D(32, 3, 3, activation='relu'))\n",
        "# Batch normalization\n",
        "model.add(BatchNormalization())\n",
        "model.add(Dropout(0.3))\n",
        "# Add a transition block, output shape - (12,12). RF - 10\n",
        "model.add(MaxPooling2D(pool_size=(2, 2)))\n",
        "model.add(Convolution2D(10, 1, 1, activation='relu'))\n",
        "\n",
        "# Add layer 3, output shape - (12,12). RF - 12\n",
        "model.add(Convolution2D(32, 3, 3, activation='relu'))\n",
        "model.add(Dropout(0.3))\n",
        "# Add layer 4, output shape - (10,10). RF - 14\n",
        "model.add(Convolution2D(16, 3, 3, activation='relu'))\n",
        "model.add(BatchNormalization())\n",
        "model.add(Dropout(0.3))\n",
        "\n",
        "# Add Max pooling layer, output shape - (5,5). RF - 28\n",
        "model.add(MaxPooling2D(pool_size=(2, 2)))\n",
        "# Add layer 5, output shape - (3,3). RF - 30\n",
        "model.add(Convolution2D(32, 3, 3, activation='relu'))\n",
        "model.add(Convolution2D(10, 2,2))\n",
        "model.add(Flatten())\n",
        "model.add(Activation('softmax'))"
      ],
      "execution_count": 0,
      "outputs": [
        {
          "output_type": "stream",
          "text": [
            "/usr/local/lib/python3.6/dist-packages/ipykernel_launcher.py:5: UserWarning: Update your `Conv2D` call to the Keras 2 API: `Conv2D(16, (3, 3), activation=\"relu\", input_shape=(28, 28, 1...)`\n",
            "  \"\"\"\n",
            "/usr/local/lib/python3.6/dist-packages/ipykernel_launcher.py:7: UserWarning: Update your `Conv2D` call to the Keras 2 API: `Conv2D(32, (3, 3), activation=\"relu\")`\n",
            "  import sys\n",
            "/usr/local/lib/python3.6/dist-packages/ipykernel_launcher.py:11: UserWarning: Update your `Conv2D` call to the Keras 2 API: `Conv2D(10, (1, 1), activation=\"relu\")`\n",
            "  # This is added back by InteractiveShellApp.init_path()\n",
            "/usr/local/lib/python3.6/dist-packages/ipykernel_launcher.py:12: UserWarning: Update your `Conv2D` call to the Keras 2 API: `Conv2D(32, (3, 3), activation=\"relu\")`\n",
            "  if sys.path[0] == '':\n",
            "/usr/local/lib/python3.6/dist-packages/ipykernel_launcher.py:14: UserWarning: Update your `Conv2D` call to the Keras 2 API: `Conv2D(16, (3, 3), activation=\"relu\")`\n",
            "  \n",
            "/usr/local/lib/python3.6/dist-packages/ipykernel_launcher.py:18: UserWarning: Update your `Conv2D` call to the Keras 2 API: `Conv2D(32, (3, 3), activation=\"relu\")`\n",
            "/usr/local/lib/python3.6/dist-packages/ipykernel_launcher.py:19: UserWarning: Update your `Conv2D` call to the Keras 2 API: `Conv2D(10, (2, 2))`\n"
          ],
          "name": "stderr"
        }
      ]
    },
    {
      "cell_type": "code",
      "metadata": {
        "id": "TzdAYg1k9K7Z",
        "colab_type": "code",
        "outputId": "256be94e-c39c-4190-9122-8ad0b9b488c7",
        "colab": {
          "base_uri": "https://localhost:8080/",
          "height": 728
        }
      },
      "source": [
        "model.summary()\n",
        "# Modle summary"
      ],
      "execution_count": 0,
      "outputs": [
        {
          "output_type": "stream",
          "text": [
            "_________________________________________________________________\n",
            "Layer (type)                 Output Shape              Param #   \n",
            "=================================================================\n",
            "conv2d_503 (Conv2D)          (None, 26, 26, 16)        160       \n",
            "_________________________________________________________________\n",
            "dropout_105 (Dropout)        (None, 26, 26, 16)        0         \n",
            "_________________________________________________________________\n",
            "conv2d_504 (Conv2D)          (None, 24, 24, 32)        4640      \n",
            "_________________________________________________________________\n",
            "batch_normalization_104 (Bat (None, 24, 24, 32)        128       \n",
            "_________________________________________________________________\n",
            "dropout_106 (Dropout)        (None, 24, 24, 32)        0         \n",
            "_________________________________________________________________\n",
            "max_pooling2d_81 (MaxPooling (None, 12, 12, 32)        0         \n",
            "_________________________________________________________________\n",
            "conv2d_505 (Conv2D)          (None, 12, 12, 10)        330       \n",
            "_________________________________________________________________\n",
            "conv2d_506 (Conv2D)          (None, 10, 10, 32)        2912      \n",
            "_________________________________________________________________\n",
            "dropout_107 (Dropout)        (None, 10, 10, 32)        0         \n",
            "_________________________________________________________________\n",
            "conv2d_507 (Conv2D)          (None, 8, 8, 16)          4624      \n",
            "_________________________________________________________________\n",
            "batch_normalization_105 (Bat (None, 8, 8, 16)          64        \n",
            "_________________________________________________________________\n",
            "dropout_108 (Dropout)        (None, 8, 8, 16)          0         \n",
            "_________________________________________________________________\n",
            "max_pooling2d_82 (MaxPooling (None, 4, 4, 16)          0         \n",
            "_________________________________________________________________\n",
            "conv2d_508 (Conv2D)          (None, 2, 2, 32)          4640      \n",
            "_________________________________________________________________\n",
            "conv2d_509 (Conv2D)          (None, 1, 1, 10)          1290      \n",
            "_________________________________________________________________\n",
            "flatten_58 (Flatten)         (None, 10)                0         \n",
            "_________________________________________________________________\n",
            "activation_58 (Activation)   (None, 10)                0         \n",
            "=================================================================\n",
            "Total params: 18,788\n",
            "Trainable params: 18,692\n",
            "Non-trainable params: 96\n",
            "_________________________________________________________________\n"
          ],
          "name": "stdout"
        }
      ]
    },
    {
      "cell_type": "code",
      "metadata": {
        "id": "Zp6SuGrL9M3h",
        "colab_type": "code",
        "colab": {}
      },
      "source": [
        "# Compile the model with important parameters\n",
        "model.compile(loss='categorical_crossentropy',\n",
        "             optimizer='adam',\n",
        "             metrics=['accuracy'])"
      ],
      "execution_count": 0,
      "outputs": []
    },
    {
      "cell_type": "code",
      "metadata": {
        "id": "4xWoKhPY9Of5",
        "colab_type": "code",
        "outputId": "9f45cb34-947d-4e8c-9283-7265da84d30c",
        "colab": {
          "base_uri": "https://localhost:8080/",
          "height": 1147
        }
      },
      "source": [
        "model.fit(X_train, Y_train, batch_size=32, nb_epoch=30, verbose=1,validation_data=(X_test,Y_test))\n",
        "# Fit the CNN model"
      ],
      "execution_count": 0,
      "outputs": [
        {
          "output_type": "stream",
          "text": [
            "Train on 60000 samples, validate on 10000 samples\n",
            "Epoch 1/30\n",
            "  320/60000 [..............................] - ETA: 33s - loss: 0.0215 - acc: 0.9938"
          ],
          "name": "stdout"
        },
        {
          "output_type": "stream",
          "text": [
            "/usr/local/lib/python3.6/dist-packages/ipykernel_launcher.py:1: UserWarning: The `nb_epoch` argument in `fit` has been renamed `epochs`.\n",
            "  \"\"\"Entry point for launching an IPython kernel.\n"
          ],
          "name": "stderr"
        },
        {
          "output_type": "stream",
          "text": [
            "60000/60000 [==============================] - 33s 546us/step - loss: 0.0184 - acc: 0.9940 - val_loss: 0.0234 - val_acc: 0.9932\n",
            "Epoch 2/30\n",
            "60000/60000 [==============================] - 32s 536us/step - loss: 0.0176 - acc: 0.9943 - val_loss: 0.0241 - val_acc: 0.9935\n",
            "Epoch 3/30\n",
            "60000/60000 [==============================] - 32s 527us/step - loss: 0.0182 - acc: 0.9940 - val_loss: 0.0274 - val_acc: 0.9922\n",
            "Epoch 4/30\n",
            "60000/60000 [==============================] - 31s 522us/step - loss: 0.0179 - acc: 0.9941 - val_loss: 0.0199 - val_acc: 0.9943\n",
            "Epoch 5/30\n",
            "60000/60000 [==============================] - 32s 526us/step - loss: 0.0185 - acc: 0.9939 - val_loss: 0.0271 - val_acc: 0.9921\n",
            "Epoch 6/30\n",
            "60000/60000 [==============================] - 31s 524us/step - loss: 0.0174 - acc: 0.9943 - val_loss: 0.0216 - val_acc: 0.9931\n",
            "Epoch 7/30\n",
            "60000/60000 [==============================] - 32s 541us/step - loss: 0.0176 - acc: 0.9943 - val_loss: 0.0249 - val_acc: 0.9932\n",
            "Epoch 8/30\n",
            "60000/60000 [==============================] - 33s 545us/step - loss: 0.0180 - acc: 0.9939 - val_loss: 0.0220 - val_acc: 0.9942\n",
            "Epoch 9/30\n",
            "60000/60000 [==============================] - 32s 539us/step - loss: 0.0171 - acc: 0.9945 - val_loss: 0.0230 - val_acc: 0.9932\n",
            "Epoch 10/30\n",
            "60000/60000 [==============================] - 32s 536us/step - loss: 0.0165 - acc: 0.9945 - val_loss: 0.0202 - val_acc: 0.9940\n",
            "Epoch 11/30\n",
            "60000/60000 [==============================] - 32s 528us/step - loss: 0.0153 - acc: 0.9948 - val_loss: 0.0250 - val_acc: 0.9924\n",
            "Epoch 12/30\n",
            "60000/60000 [==============================] - 32s 537us/step - loss: 0.0164 - acc: 0.9945 - val_loss: 0.0207 - val_acc: 0.9941\n",
            "Epoch 13/30\n",
            "60000/60000 [==============================] - 31s 521us/step - loss: 0.0160 - acc: 0.9949 - val_loss: 0.0225 - val_acc: 0.9939\n",
            "Epoch 14/30\n",
            "60000/60000 [==============================] - 31s 519us/step - loss: 0.0166 - acc: 0.9942 - val_loss: 0.0210 - val_acc: 0.9942\n",
            "Epoch 15/30\n",
            "60000/60000 [==============================] - 31s 518us/step - loss: 0.0159 - acc: 0.9948 - val_loss: 0.0241 - val_acc: 0.9933\n",
            "Epoch 16/30\n",
            "60000/60000 [==============================] - 31s 513us/step - loss: 0.0148 - acc: 0.9949 - val_loss: 0.0207 - val_acc: 0.9937\n",
            "Epoch 17/30\n",
            "60000/60000 [==============================] - 31s 518us/step - loss: 0.0164 - acc: 0.9947 - val_loss: 0.0257 - val_acc: 0.9921\n",
            "Epoch 18/30\n",
            "60000/60000 [==============================] - 31s 515us/step - loss: 0.0143 - acc: 0.9953 - val_loss: 0.0209 - val_acc: 0.9938\n",
            "Epoch 19/30\n",
            "60000/60000 [==============================] - 31s 517us/step - loss: 0.0166 - acc: 0.9945 - val_loss: 0.0217 - val_acc: 0.9940\n",
            "Epoch 20/30\n",
            "60000/60000 [==============================] - 31s 514us/step - loss: 0.0150 - acc: 0.9948 - val_loss: 0.0253 - val_acc: 0.9920\n",
            "Epoch 21/30\n",
            "60000/60000 [==============================] - 31s 518us/step - loss: 0.0140 - acc: 0.9954 - val_loss: 0.0208 - val_acc: 0.9938\n",
            "Epoch 22/30\n",
            "60000/60000 [==============================] - 31s 521us/step - loss: 0.0161 - acc: 0.9945 - val_loss: 0.0245 - val_acc: 0.9932\n",
            "Epoch 23/30\n",
            "60000/60000 [==============================] - 31s 516us/step - loss: 0.0141 - acc: 0.9953 - val_loss: 0.0249 - val_acc: 0.9929\n",
            "Epoch 24/30\n",
            "60000/60000 [==============================] - 31s 519us/step - loss: 0.0132 - acc: 0.9957 - val_loss: 0.0253 - val_acc: 0.9922\n",
            "Epoch 25/30\n",
            "60000/60000 [==============================] - 31s 522us/step - loss: 0.0159 - acc: 0.9947 - val_loss: 0.0230 - val_acc: 0.9920\n",
            "Epoch 26/30\n",
            "60000/60000 [==============================] - 31s 516us/step - loss: 0.0137 - acc: 0.9956 - val_loss: 0.0193 - val_acc: 0.9943\n",
            "Epoch 27/30\n",
            "60000/60000 [==============================] - 31s 521us/step - loss: 0.0139 - acc: 0.9952 - val_loss: 0.0203 - val_acc: 0.9933\n",
            "Epoch 28/30\n",
            "60000/60000 [==============================] - 31s 511us/step - loss: 0.0147 - acc: 0.9954 - val_loss: 0.0194 - val_acc: 0.9936\n",
            "Epoch 29/30\n",
            "60000/60000 [==============================] - 31s 513us/step - loss: 0.0128 - acc: 0.9957 - val_loss: 0.0235 - val_acc: 0.9935\n",
            "Epoch 30/30\n",
            "60000/60000 [==============================] - 31s 514us/step - loss: 0.0137 - acc: 0.9953 - val_loss: 0.0221 - val_acc: 0.9932\n"
          ],
          "name": "stdout"
        },
        {
          "output_type": "execute_result",
          "data": {
            "text/plain": [
              "<keras.callbacks.History at 0x7f8365a1b828>"
            ]
          },
          "metadata": {
            "tags": []
          },
          "execution_count": 219
        }
      ]
    },
    {
      "cell_type": "code",
      "metadata": {
        "id": "AtsH-lLk-eLb",
        "colab_type": "code",
        "colab": {}
      },
      "source": [
        "score = model.evaluate(X_test, Y_test, verbose=0)\n",
        "# Evaluate the model"
      ],
      "execution_count": 0,
      "outputs": []
    },
    {
      "cell_type": "code",
      "metadata": {
        "id": "mkX8JMv79q9r",
        "colab_type": "code",
        "outputId": "9be441bf-34ab-497f-bb2f-d396f9397eee",
        "colab": {
          "base_uri": "https://localhost:8080/",
          "height": 35
        }
      },
      "source": [
        "print(score)\n",
        "# Print validation accuracy and loss"
      ],
      "execution_count": 0,
      "outputs": [
        {
          "output_type": "stream",
          "text": [
            "[0.022136983878070896, 0.9932]\n"
          ],
          "name": "stdout"
        }
      ]
    },
    {
      "cell_type": "code",
      "metadata": {
        "id": "OCWoJkwE9suh",
        "colab_type": "code",
        "colab": {}
      },
      "source": [
        "y_pred = model.predict(X_test)"
      ],
      "execution_count": 0,
      "outputs": []
    },
    {
      "cell_type": "code",
      "metadata": {
        "id": "Ym7iCFBm9uBs",
        "colab_type": "code",
        "outputId": "3a71cb1f-1b15-438b-966b-d4bb62b8d315",
        "colab": {
          "base_uri": "https://localhost:8080/",
          "height": 347
        }
      },
      "source": [
        "print(y_pred[:9])\n",
        "print(y_test[:9])"
      ],
      "execution_count": 0,
      "outputs": [
        {
          "output_type": "stream",
          "text": [
            "[[4.9157584e-10 1.2759808e-06 3.5985487e-08 5.9692589e-08 1.0508490e-12\n",
            "  9.0018765e-12 1.7053677e-23 9.9999809e-01 5.0871379e-10 4.6623899e-07]\n",
            " [6.5298962e-09 2.7788087e-06 9.9999177e-01 1.0955951e-09 3.5795416e-09\n",
            "  1.8445126e-10 5.4445263e-06 4.7597992e-10 5.2420073e-09 2.1051338e-10]\n",
            " [1.0364590e-08 9.9999988e-01 1.3025300e-08 1.1563488e-11 7.1014633e-10\n",
            "  3.3360685e-09 2.5949717e-10 6.3955341e-08 6.1171903e-09 8.4590814e-11]\n",
            " [9.9998403e-01 2.8101547e-13 1.0587578e-10 1.1782794e-09 1.9662015e-10\n",
            "  1.7033599e-09 1.5141678e-05 7.4810197e-10 1.3254513e-07 7.0513556e-07]\n",
            " [2.7553975e-09 2.4868063e-10 1.5977989e-08 5.7655315e-11 9.9985063e-01\n",
            "  5.1395683e-09 1.1979820e-06 9.2525300e-07 5.2612572e-06 1.4193919e-04]\n",
            " [2.3212259e-09 9.9999988e-01 6.0982712e-09 5.9820334e-12 4.8737181e-10\n",
            "  4.5742793e-10 1.1581307e-10 1.4621610e-07 9.2017158e-09 1.3273350e-10]\n",
            " [2.9178511e-09 9.7311909e-05 2.2192997e-07 7.8793966e-10 9.9879694e-01\n",
            "  1.6161415e-07 4.0313089e-10 3.7903596e-06 1.0613549e-03 4.0281597e-05]\n",
            " [1.4476333e-09 7.8619493e-09 1.3977264e-06 3.0294850e-05 5.7411585e-06\n",
            "  1.6734124e-07 7.5658213e-10 3.4268619e-06 1.2620687e-04 9.9983275e-01]\n",
            " [2.5636248e-06 3.3902262e-13 9.8564648e-08 9.1767749e-09 3.5116722e-07\n",
            "  9.9714297e-01 2.7537653e-03 3.2837572e-10 5.1460360e-05 4.8897273e-05]]\n",
            "[7 2 1 0 4 1 4 9 5]\n"
          ],
          "name": "stdout"
        }
      ]
    },
    {
      "cell_type": "code",
      "metadata": {
        "id": "CT--y98_dr2T",
        "colab_type": "code",
        "colab": {}
      },
      "source": [
        "layer_dict = dict([(layer.name, layer) for layer in model.layers])\n",
        "# create a dictionary of layer name and layer object as key and value"
      ],
      "execution_count": 0,
      "outputs": []
    },
    {
      "cell_type": "code",
      "metadata": {
        "id": "ebEyc3r3Rzra",
        "colab_type": "code",
        "outputId": "0601ccaa-33c5-44b3-c0d8-66d21b7588f3",
        "colab": {
          "base_uri": "https://localhost:8080/",
          "height": 312
        }
      },
      "source": [
        "layer_dict"
      ],
      "execution_count": 0,
      "outputs": [
        {
          "output_type": "execute_result",
          "data": {
            "text/plain": [
              "{'activation_58': <keras.layers.core.Activation at 0x7f8366441e80>,\n",
              " 'batch_normalization_104': <keras.layers.normalization.BatchNormalization at 0x7f8366764be0>,\n",
              " 'batch_normalization_105': <keras.layers.normalization.BatchNormalization at 0x7f83665e13c8>,\n",
              " 'conv2d_503': <keras.layers.convolutional.Conv2D at 0x7f8366764278>,\n",
              " 'conv2d_504': <keras.layers.convolutional.Conv2D at 0x7f8366764ba8>,\n",
              " 'conv2d_505': <keras.layers.convolutional.Conv2D at 0x7f8366772b00>,\n",
              " 'conv2d_506': <keras.layers.convolutional.Conv2D at 0x7f836672d5c0>,\n",
              " 'conv2d_507': <keras.layers.convolutional.Conv2D at 0x7f836662a978>,\n",
              " 'conv2d_508': <keras.layers.convolutional.Conv2D at 0x7f836658c518>,\n",
              " 'conv2d_509': <keras.layers.convolutional.Conv2D at 0x7f8366514e80>,\n",
              " 'dropout_105': <keras.layers.core.Dropout at 0x7f8366764860>,\n",
              " 'dropout_106': <keras.layers.core.Dropout at 0x7f8366772978>,\n",
              " 'dropout_107': <keras.layers.core.Dropout at 0x7f83666c5ef0>,\n",
              " 'dropout_108': <keras.layers.core.Dropout at 0x7f83665faf98>,\n",
              " 'flatten_58': <keras.layers.core.Flatten at 0x7f8366441f98>,\n",
              " 'max_pooling2d_81': <keras.layers.pooling.MaxPooling2D at 0x7f836672d4e0>,\n",
              " 'max_pooling2d_82': <keras.layers.pooling.MaxPooling2D at 0x7f8366560c18>}"
            ]
          },
          "metadata": {
            "tags": []
          },
          "execution_count": 227
        }
      ]
    },
    {
      "cell_type": "code",
      "metadata": {
        "id": "2GY4Upv4dsUR",
        "colab_type": "code",
        "outputId": "39d0ce01-e698-48f2-954c-f28530c5e39b",
        "colab": {
          "base_uri": "https://localhost:8080/",
          "height": 741
        }
      },
      "source": [
        "import numpy as np\n",
        "from matplotlib import pyplot as plt\n",
        "from keras import backend as K\n",
        "%matplotlib inline\n",
        "# util function to convert a tensor into a valid image\n",
        "def deprocess_image(x):\n",
        "    # normalize tensor: center on 0., ensure std is 0.1\n",
        "    x -= x.mean()\n",
        "    x /= (x.std() + 1e-5)\n",
        "    x *= 0.1\n",
        "\n",
        "    # clip to [0, 1]\n",
        "    x += 0.5\n",
        "    x = np.clip(x, 0, 1)\n",
        "\n",
        "    # convert to RGB array\n",
        "    x *= 255\n",
        "    #x = x.transpose((1, 2, 0))\n",
        "    x = np.clip(x, 0, 255).astype('uint8')\n",
        "    return x\n",
        "\n",
        "def vis_img_in_filter(img = np.array(X_train[2]).reshape((1, 28, 28, 1)).astype(np.float64), \n",
        "                      layer_name = 'conv2d_507'):\n",
        "    layer_output = layer_dict[layer_name].output\n",
        "    img_ascs = list()\n",
        "    for filter_index in range(layer_output.shape[3]):\n",
        "        # build a loss function that maximizes the activation\n",
        "        # of the nth filter of the layer considered\n",
        "        loss = K.mean(layer_output[:, :, :, filter_index])\n",
        "\n",
        "        # compute the gradient of the input picture wrt this loss\n",
        "        grads = K.gradients(loss, model.input)[0]\n",
        "\n",
        "        # normalization trick: we normalize the gradient\n",
        "        grads /= (K.sqrt(K.mean(K.square(grads))) + 1e-5)\n",
        "\n",
        "        # this function returns the loss and grads given the input picture\n",
        "        iterate = K.function([model.input], [loss, grads])\n",
        "\n",
        "        # step size for gradient ascent\n",
        "        step = 5.\n",
        "\n",
        "        img_asc = np.array(img)\n",
        "        # run gradient ascent for 20 steps\n",
        "        for i in range(20):\n",
        "            loss_value, grads_value = iterate([img_asc])\n",
        "            img_asc += grads_value * step\n",
        "\n",
        "        img_asc = img_asc[0]\n",
        "        img_ascs.append(deprocess_image(img_asc).reshape((28, 28)))\n",
        "        \n",
        "    if layer_output.shape[3] >= 35:\n",
        "        plot_x, plot_y = 6, 6\n",
        "    elif layer_output.shape[3] >= 23:\n",
        "        plot_x, plot_y = 4, 6\n",
        "    elif layer_output.shape[3] >= 11:\n",
        "        plot_x, plot_y = 2, 6\n",
        "    else:\n",
        "        plot_x, plot_y = 1, 2\n",
        "    fig, ax = plt.subplots(plot_x, plot_y, figsize = (12, 12))\n",
        "    ax[0, 0].imshow(img.reshape((28, 28)), cmap = 'gray')\n",
        "    ax[0, 0].set_title('Input image')\n",
        "    fig.suptitle('Input image and %s filters' % (layer_name,))\n",
        "    fig.tight_layout(pad = 0.3, rect = [0, 0, 0.9, 0.9])\n",
        "    for (x, y) in [(i, j) for i in range(plot_x) for j in range(plot_y)]:\n",
        "        if x == 0 and y == 0:\n",
        "            continue\n",
        "        ax[x, y].imshow(img_ascs[x * plot_y + y - 1], cmap = 'gray')\n",
        "        ax[x, y].set_title('filter %d' % (x * plot_y + y - 1))\n",
        "\n",
        "vis_img_in_filter()"
      ],
      "execution_count": 0,
      "outputs": [
        {
          "output_type": "display_data",
          "data": {
            "image/png": "[encoded data removed]",
            "text/plain": [
              "<Figure size 864x864 with 12 Axes>"
            ]
          },
          "metadata": {
            "tags": []
          }
        }
      ]
    },
    {
      "cell_type": "code",
      "metadata": {
        "id": "9tvptcn8dxvp",
        "colab_type": "code",
        "colab": {}
      },
      "source": [
        ""
      ],
      "execution_count": 0,
      "outputs": []
    }
  ]
}